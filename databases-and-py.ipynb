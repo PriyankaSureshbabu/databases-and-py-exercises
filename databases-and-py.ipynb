{
    "metadata": {
        "kernelspec": {
            "name": "python3",
            "display_name": "Python 3 (ipykernel)",
            "language": "python"
        },
        "language_info": {
            "name": "python",
            "version": "3.10.9",
            "mimetype": "text/x-python",
            "codemirror_mode": {
                "name": "ipython",
                "version": 3
            },
            "pygments_lexer": "ipython3",
            "nbconvert_exporter": "python",
            "file_extension": ".py"
        }
    },
    "nbformat_minor": 2,
    "nbformat": 4,
    "cells": [
        {
            "cell_type": "markdown",
            "source": [
                "# Exercises: Working with Databases in Python\n",
                "\n",
                "For the exercises, we will be practicing the steps outlined in this [article](https://towardsdatascience.com/do-you-know-python-has-a-built-in-database-d553989c87bd). You can skip the portion where the author downloads a separate SQL client to examine the database. "
            ],
            "metadata": {
                "azdata_cell_guid": "d7b89799-a102-479f-87b7-f2759ff1962e"
            },
            "attachments": {}
        },
        {
            "cell_type": "markdown",
            "source": [
                "## Import Libraries\n",
                "\n",
                "We will need `pandas` and `sqlite3`. SQLite is a small, self-contained database engine that comes with Python so you will not have to do any additional installations for this lesson. If you want to connect to a different database engine, such as SQL server, you may need additional libraries such as `sqlalchemy` or `pyodbc` and a tool called a driver which helps to connect a database to an application.\n",
                ""
            ],
            "metadata": {
                "azdata_cell_guid": "89a0b6d9-821d-44f5-9795-9519809b9108"
            },
            "attachments": {}
        },
        {
            "cell_type": "code",
            "source": [
                "# Import sqlite3 and pandas\n",
                "import sqlite3 as sl\n",
                "import pandas as pd\n",
                ""
            ],
            "metadata": {
                "azdata_cell_guid": "865655b0-22e9-47f4-a5df-4bfe97dda4a3",
                "tags": [],
                "language": "python"
            },
            "outputs": [],
            "execution_count": 81
        },
        {
            "cell_type": "markdown",
            "source": [
                "## Create a Database\n",
                "\n",
                "In the article, the author shows how to use `sqlite3` to open a connection to an existing database or create a new one. Use this method to make a new database called `exercises.db`."
            ],
            "metadata": {
                "azdata_cell_guid": "be8436e2-68be-47f8-9fc9-06c235a6a128"
            }
        },
        {
            "cell_type": "code",
            "source": [
                "# Create a new database called exercises.db.\n",
                "conn = sl.connect('exercises.db')\n",
                "print (\"Opened database successfully\");\n",
                "\n",
                ""
            ],
            "metadata": {
                "azdata_cell_guid": "707abc33-c6ee-416e-9358-c799f1fcbb12",
                "language": "python"
            },
            "outputs": [
                {
                    "name": "stdout",
                    "text": "Opened database successfully\n",
                    "output_type": "stream"
                }
            ],
            "execution_count": 82
        },
        {
            "cell_type": "markdown",
            "source": [
                "## Create a Table\n",
                "\n",
                "Follow the steps in the article to create a table called `favorite_books.db`. This table should include columns for the title, author, and a short description of why it is a favorite."
            ],
            "metadata": {
                "azdata_cell_guid": "dc9df060-ddc9-4573-bd74-3c97323f85a7"
            },
            "attachments": {}
        },
        {
            "cell_type": "code",
            "source": [
                "# Create a new table in your database.\n",
                "\n",
                "# CREATE TABLE excercises.favorite_books.db (\n",
                "#             id INTEGER NOT NULL PRIMARY KEY AUTOINCREMENT,\n",
                "#             Title TEXT,\n",
                "#             Author TEXT,\n",
                "#             Description TEXT\n",
                "#         );\n",
                "# with con:\n",
                "conn.execute(\"\"\" \n",
                "    CREATE TABLE favorite_books (\n",
                "            id INTEGER NOT NULL PRIMARY KEY AUTOINCREMENT,\n",
                "            Title TEXT,\n",
                "            Author TEXT,\n",
                "            Description TEXT\n",
                "        );\n",
                "    \"\"\")"
            ],
            "metadata": {
                "azdata_cell_guid": "3cc6b80e-3fa2-4d2e-b2a9-1ea5d68ba01e",
                "language": "python",
                "tags": []
            },
            "outputs": [
                {
                    "data": {
                        "text/plain": "<sqlite3.Cursor at 0x1e872f1ec40>"
                    },
                    "metadata": {},
                    "execution_count": 113,
                    "output_type": "execute_result"
                }
            ],
            "execution_count": 113
        },
        {
            "cell_type": "markdown",
            "source": [
                "## Insert Records\n",
                "\n",
                "Add 3 entries to your table for your top 3 favorite books."
            ],
            "metadata": {
                "azdata_cell_guid": "e9acec60-1485-45c8-9f12-997f959d44cc"
            }
        },
        {
            "cell_type": "code",
            "source": [
                "# Add your 3 favorite books to your table.\n",
                "sql = 'INSERT INTO favorite_books (Title, author, Description) values(?, ?, ?)'\n",
                "data = [\n",
                "    ('Chronicles of Narnia', 'C.S. Lewis', 'thought provoking book'),\n",
                "    ('Lord of the Rings', 'J.R.R.Tolkien', 'Good book'),\n",
                "    ('From Strength to Strength', 'Arthur.C.Brooks', 'helps to understand success and purpose in life')\n",
                "]"
            ],
            "metadata": {
                "azdata_cell_guid": "c7b8e386-f3f4-42ad-aa91-a2da2e7904a5",
                "language": "python"
            },
            "outputs": [],
            "execution_count": 116
        },
        {
            "cell_type": "code",
            "source": [
                "with conn:\r\n",
                "    conn.executemany(sql, data)"
            ],
            "metadata": {
                "azdata_cell_guid": "63317356-0b8e-42f8-9fed-7ef9710d7bdb",
                "language": "python"
            },
            "outputs": [],
            "execution_count": 86
        },
        {
            "cell_type": "markdown",
            "source": [
                "## Query Your Table\n",
                "\n",
                "Write a `SELECT` query to output the 3 records in your table."
            ],
            "metadata": {
                "azdata_cell_guid": "b2e48ba7-b418-4418-bb16-598fb82b964c"
            },
            "attachments": {}
        },
        {
            "cell_type": "code",
            "source": [
                "# Write your SELECT query here.\n",
                "with conn:\n",
                "    data = conn.execute(\"select * from favorite_books\")\n",
                "    for row in data:\n",
                "        print(row)"
            ],
            "metadata": {
                "azdata_cell_guid": "c341e7e2-d635-4c26-b744-237c762f7f41",
                "tags": [],
                "language": "python"
            },
            "outputs": [
                {
                    "name": "stdout",
                    "text": "(1, 'Chronicles of Narnia', 'C.S. Lewis', 'thought provoking book')\n(2, 'Lord of the Rings', 'J.R.R.Tolkien', 'Good book')\n(3, 'From Strength to Strength', 'Arthur.C.Brooks', 'helps to understand success and purpose in life')\n",
                    "output_type": "stream"
                }
            ],
            "execution_count": 71
        },
        {
            "cell_type": "markdown",
            "source": [
                "## Create a New Table with Pandas\n",
                "\n",
                "Create a new table called `favorite_movies` with your top 3 favorite movies. Each movie should have an id and a title. This time, use Pandas to first make a dataframe and then write the dataframe to SQL. Write a `SELECT` query to confirm that the new table does have your top 3 favorite movies."
            ],
            "metadata": {
                "azdata_cell_guid": "2127737d-71cd-4f0d-a84e-b1db8ad54af7"
            }
        },
        {
            "cell_type": "code",
            "source": [
                "import pandas as pd \n",
                "df_favorite_movies = pd.DataFrame({\n",
                "    'user_id': [4,5,6],\n",
                "    'Title': ['Batman', 'Titanic', 'Avengers']\n",
                "})\n",
                "df_favorite_movies\n",
                ""
            ],
            "metadata": {
                "azdata_cell_guid": "b4b6dd20-ccc0-42e7-b1e7-79d8596b3f9c",
                "language": "python"
            },
            "outputs": [
                {
                    "data": {
                        "text/plain": "   user_id     Title\n0        4    Batman\n1        5   Titanic\n2        6  Avengers",
                        "text/html": "<div>\n<style scoped>\n    .dataframe tbody tr th:only-of-type {\n        vertical-align: middle;\n    }\n\n    .dataframe tbody tr th {\n        vertical-align: top;\n    }\n\n    .dataframe thead th {\n        text-align: right;\n    }\n</style>\n<table border=\"1\" class=\"dataframe\">\n  <thead>\n    <tr style=\"text-align: right;\">\n      <th></th>\n      <th>user_id</th>\n      <th>Title</th>\n    </tr>\n  </thead>\n  <tbody>\n    <tr>\n      <th>0</th>\n      <td>4</td>\n      <td>Batman</td>\n    </tr>\n    <tr>\n      <th>1</th>\n      <td>5</td>\n      <td>Titanic</td>\n    </tr>\n    <tr>\n      <th>2</th>\n      <td>6</td>\n      <td>Avengers</td>\n    </tr>\n  </tbody>\n</table>\n</div>"
                    },
                    "metadata": {},
                    "execution_count": 109,
                    "output_type": "execute_result"
                }
            ],
            "execution_count": 109
        },
        {
            "cell_type": "code",
            "source": [
                "df_favorite_movies.to_sql('favorite_movie',conn)\r\n",
                "\r\n",
                "\r\n",
                ""
            ],
            "metadata": {
                "azdata_cell_guid": "20d49559-bbd0-4ef6-897b-189d8e256aac",
                "language": "python"
            },
            "outputs": [
                {
                    "data": {
                        "text/plain": "3"
                    },
                    "metadata": {},
                    "execution_count": 111,
                    "output_type": "execute_result"
                }
            ],
            "execution_count": 111
        },
        {
            "cell_type": "code",
            "source": [
                "df = pd.read_sql('''\r\n",
                "    SELECT * from favorite_movie''', conn)\r\n",
                "df"
            ],
            "metadata": {
                "azdata_cell_guid": "10f28256-3d51-4491-97b3-66373fa86425",
                "language": "python"
            },
            "outputs": [
                {
                    "data": {
                        "text/plain": "   index  user_id     Title\n0      0        4    Batman\n1      1        5   Titanic\n2      2        6  Avengers",
                        "text/html": "<div>\n<style scoped>\n    .dataframe tbody tr th:only-of-type {\n        vertical-align: middle;\n    }\n\n    .dataframe tbody tr th {\n        vertical-align: top;\n    }\n\n    .dataframe thead th {\n        text-align: right;\n    }\n</style>\n<table border=\"1\" class=\"dataframe\">\n  <thead>\n    <tr style=\"text-align: right;\">\n      <th></th>\n      <th>index</th>\n      <th>user_id</th>\n      <th>Title</th>\n    </tr>\n  </thead>\n  <tbody>\n    <tr>\n      <th>0</th>\n      <td>0</td>\n      <td>4</td>\n      <td>Batman</td>\n    </tr>\n    <tr>\n      <th>1</th>\n      <td>1</td>\n      <td>5</td>\n      <td>Titanic</td>\n    </tr>\n    <tr>\n      <th>2</th>\n      <td>2</td>\n      <td>6</td>\n      <td>Avengers</td>\n    </tr>\n  </tbody>\n</table>\n</div>"
                    },
                    "metadata": {},
                    "execution_count": 112,
                    "output_type": "execute_result"
                }
            ],
            "execution_count": 112
        }
    ]
}